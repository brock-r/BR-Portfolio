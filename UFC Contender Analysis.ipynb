{
 "cells": [
  {
   "cell_type": "markdown",
   "metadata": {},
   "source": [
    "# UFC Title Challenger Analysis\n",
    "\n",
    "Mixed Martial Arts (MMA) is an exciting sport that is rabidly growing. The piloting global promotion for MMA is the Ultimate Fighting Championship (UFC) which was founded in 1993. As a fairly new sport, MMA doesn’t have deep roots compared to sports such as Baseball or Hockey. What is does have is uniqueness and excitement, MMA combines all of the martial arts, such as Boxing, Brazilian Jiu-Jitsu, Sambo, Wrestling, Muay Thai, Karate, and Judo into a single sport. \n",
    "\n",
    "The objective for a UFC fighter is to work their way through the rankings and become champion in their respective weight class. My goal for this analysis using the [UFC-Fight historical data from 1993 to 2019](https://www.kaggle.com/rajeevw/ufcdata) from kaggle is to answer the following questions: \n",
    "-\tThe average path for a title challenger in the UFC by weight class? (wins, losses, ect before they are rewarded a title fight)\n",
    "-\tWhat weight class is the most challenging to get a title fight in?\n",
    "-\tDo finishes leapfrog fighters into title contention faster?\n",
    "-\tDoes experience matter?\n",
    "\n",
    "Column definitions:\n",
    "R_ and B_ prefix signifies red and blue corner fighter stats respectively\n",
    "- _opp_ containing columns is the average of damage done by the opponent on the fighter\n",
    "- KO is number of knockdowns\n",
    "- SIG_STR is no. of significant strikes 'landed of attempted'\n",
    "- SIG_STR_pct is significant strikes percentage\n",
    "- TOTAL_STR is total strikes 'landed of attempted'\n",
    "- TD is no. of takedowns\n",
    "- TD_pct is takedown percentages\n",
    "- SUB_ATT is no. of submission attempts\n",
    "- PASS is no. times the guard was passed?\n",
    "- HEAD is no. of significant strinks to the head 'landed of attempted'\n",
    "- BODY is no. of significant strikes to the body 'landed of attempted'\n",
    "- CLINCH is no. of significant strikes in the clinch 'landed of attempted'\n",
    "- GROUND is no. of significant strikes on the ground 'landed of attempted'\n",
    "- win_by is method of win\n",
    "- last_round is last round of the fight (ex. if it was a KO in 1st, then this will be 1)\n",
    "- last_round_time is when the fight ended in the last round\n",
    "- Format is the format of the fight (3 rounds, 5 rounds etc.)\n",
    "- Referee is the name of the Ref\n",
    "- date is the date of the fight\n",
    "- location is the location in which the event took place\n",
    "- Fight_type is which weight class and whether it's a title bout or not\n",
    "- Winner is the winner of the fight\n",
    "- Stance is the stance of the fighter (orthodox, southpaw, etc.)\n",
    "- Height_cms is the height in centimeter\n",
    "- Reach_cms is the reach of the fighter (arm span) in centimeter\n",
    "- Weight_lbs is the weight of the fighter in pounds (lbs)\n",
    "- age is the age of the fighter\n",
    "- title_bout Boolean value of whether it is title fight or not\n",
    "- weight_class is which weight class the fight is in (Bantamweight, heavyweight, Women's flyweight, etc.)\n",
    "- no_of_rounds is the number of rounds the fight was scheduled for\n",
    "- current_lose_streak is the count of current concurrent losses of the fighter\n",
    "- current_win_streak is the count of current concurrent wins of the fighter\n",
    "- draw is the number of draws in the fighter's ufc career\n",
    "- wins is the number of wins in the fighter's ufc career\n",
    "- losses is the number of losses in the fighter's ufc career\n",
    "- total_rounds_fought is the average of total rounds fought by the fighter\n",
    "- total_time_fought(seconds) is the count of total time spent fighting in seconds\n",
    "- total_title_bouts is the total number of title bouts taken part in by the fighter\n",
    "- win_by_Decision_Majority is the number of wins by majority judges decision in the fighter's ufc career\n",
    "- win_by_Decision_Split is the number of wins by split judges decision in the fighter's ufc career\n",
    "- win_by_Decision_Unanimous is the number of wins by unanimous judges decision in the fighter's ufc career\n",
    "- win_by_KO/TKO is the number of wins by knockout in the fighter's ufc career\n",
    "- win_by_Submission is the number of wins by submission in the fighter's ufc career\n",
    "- win_by_TKO_Doctor_Stoppage is the number of wins by doctor stoppage in the fighter's ufc career"
   ]
  },
  {
   "cell_type": "markdown",
   "metadata": {},
   "source": [
    "### Importing libraries and cleaning the data"
   ]
  },
  {
   "cell_type": "code",
   "execution_count": 1,
   "metadata": {},
   "outputs": [],
   "source": [
    "import pandas as pd\n",
    "import numpy as np\n",
    "import datetime\n",
    "import matplotlib.pyplot as plt\n",
    "import seaborn as sns"
   ]
  },
  {
   "cell_type": "code",
   "execution_count": 2,
   "metadata": {},
   "outputs": [],
   "source": [
    "sns.set_style('whitegrid')\n",
    "%matplotlib inline"
   ]
  },
  {
   "cell_type": "code",
   "execution_count": 3,
   "metadata": {},
   "outputs": [
    {
     "data": {
      "text/html": [
       "<div>\n",
       "<style scoped>\n",
       "    .dataframe tbody tr th:only-of-type {\n",
       "        vertical-align: middle;\n",
       "    }\n",
       "\n",
       "    .dataframe tbody tr th {\n",
       "        vertical-align: top;\n",
       "    }\n",
       "\n",
       "    .dataframe thead th {\n",
       "        text-align: right;\n",
       "    }\n",
       "</style>\n",
       "<table border=\"1\" class=\"dataframe\">\n",
       "  <thead>\n",
       "    <tr style=\"text-align: right;\">\n",
       "      <th></th>\n",
       "      <th>R_fighter</th>\n",
       "      <th>B_fighter</th>\n",
       "      <th>Referee</th>\n",
       "      <th>date</th>\n",
       "      <th>location</th>\n",
       "      <th>Winner</th>\n",
       "      <th>title_bout</th>\n",
       "      <th>weight_class</th>\n",
       "      <th>no_of_rounds</th>\n",
       "      <th>B_current_lose_streak</th>\n",
       "      <th>...</th>\n",
       "      <th>R_win_by_KO/TKO</th>\n",
       "      <th>R_win_by_Submission</th>\n",
       "      <th>R_win_by_TKO_Doctor_Stoppage</th>\n",
       "      <th>R_wins</th>\n",
       "      <th>R_Stance</th>\n",
       "      <th>R_Height_cms</th>\n",
       "      <th>R_Reach_cms</th>\n",
       "      <th>R_Weight_lbs</th>\n",
       "      <th>B_age</th>\n",
       "      <th>R_age</th>\n",
       "    </tr>\n",
       "  </thead>\n",
       "  <tbody>\n",
       "    <tr>\n",
       "      <th>0</th>\n",
       "      <td>Henry Cejudo</td>\n",
       "      <td>Marlon Moraes</td>\n",
       "      <td>Marc Goddard</td>\n",
       "      <td>2019-06-08</td>\n",
       "      <td>Chicago, Illinois, USA</td>\n",
       "      <td>Red</td>\n",
       "      <td>True</td>\n",
       "      <td>Bantamweight</td>\n",
       "      <td>5</td>\n",
       "      <td>0.0</td>\n",
       "      <td>...</td>\n",
       "      <td>2.0</td>\n",
       "      <td>0.0</td>\n",
       "      <td>0.0</td>\n",
       "      <td>8.0</td>\n",
       "      <td>Orthodox</td>\n",
       "      <td>162.56</td>\n",
       "      <td>162.56</td>\n",
       "      <td>135.0</td>\n",
       "      <td>31.0</td>\n",
       "      <td>32.0</td>\n",
       "    </tr>\n",
       "    <tr>\n",
       "      <th>1</th>\n",
       "      <td>Valentina Shevchenko</td>\n",
       "      <td>Jessica Eye</td>\n",
       "      <td>Robert Madrigal</td>\n",
       "      <td>2019-06-08</td>\n",
       "      <td>Chicago, Illinois, USA</td>\n",
       "      <td>Red</td>\n",
       "      <td>True</td>\n",
       "      <td>Women's Flyweight</td>\n",
       "      <td>5</td>\n",
       "      <td>0.0</td>\n",
       "      <td>...</td>\n",
       "      <td>0.0</td>\n",
       "      <td>2.0</td>\n",
       "      <td>0.0</td>\n",
       "      <td>5.0</td>\n",
       "      <td>Southpaw</td>\n",
       "      <td>165.10</td>\n",
       "      <td>167.64</td>\n",
       "      <td>125.0</td>\n",
       "      <td>32.0</td>\n",
       "      <td>31.0</td>\n",
       "    </tr>\n",
       "    <tr>\n",
       "      <th>2</th>\n",
       "      <td>Tony Ferguson</td>\n",
       "      <td>Donald Cerrone</td>\n",
       "      <td>Dan Miragliotta</td>\n",
       "      <td>2019-06-08</td>\n",
       "      <td>Chicago, Illinois, USA</td>\n",
       "      <td>Red</td>\n",
       "      <td>False</td>\n",
       "      <td>Lightweight</td>\n",
       "      <td>3</td>\n",
       "      <td>0.0</td>\n",
       "      <td>...</td>\n",
       "      <td>3.0</td>\n",
       "      <td>6.0</td>\n",
       "      <td>1.0</td>\n",
       "      <td>14.0</td>\n",
       "      <td>Orthodox</td>\n",
       "      <td>180.34</td>\n",
       "      <td>193.04</td>\n",
       "      <td>155.0</td>\n",
       "      <td>36.0</td>\n",
       "      <td>35.0</td>\n",
       "    </tr>\n",
       "    <tr>\n",
       "      <th>3</th>\n",
       "      <td>Jimmie Rivera</td>\n",
       "      <td>Petr Yan</td>\n",
       "      <td>Kevin MacDonald</td>\n",
       "      <td>2019-06-08</td>\n",
       "      <td>Chicago, Illinois, USA</td>\n",
       "      <td>Blue</td>\n",
       "      <td>False</td>\n",
       "      <td>Bantamweight</td>\n",
       "      <td>3</td>\n",
       "      <td>0.0</td>\n",
       "      <td>...</td>\n",
       "      <td>1.0</td>\n",
       "      <td>0.0</td>\n",
       "      <td>0.0</td>\n",
       "      <td>6.0</td>\n",
       "      <td>Orthodox</td>\n",
       "      <td>162.56</td>\n",
       "      <td>172.72</td>\n",
       "      <td>135.0</td>\n",
       "      <td>26.0</td>\n",
       "      <td>29.0</td>\n",
       "    </tr>\n",
       "    <tr>\n",
       "      <th>4</th>\n",
       "      <td>Tai Tuivasa</td>\n",
       "      <td>Blagoy Ivanov</td>\n",
       "      <td>Dan Miragliotta</td>\n",
       "      <td>2019-06-08</td>\n",
       "      <td>Chicago, Illinois, USA</td>\n",
       "      <td>Blue</td>\n",
       "      <td>False</td>\n",
       "      <td>Heavyweight</td>\n",
       "      <td>3</td>\n",
       "      <td>0.0</td>\n",
       "      <td>...</td>\n",
       "      <td>2.0</td>\n",
       "      <td>0.0</td>\n",
       "      <td>0.0</td>\n",
       "      <td>3.0</td>\n",
       "      <td>Southpaw</td>\n",
       "      <td>187.96</td>\n",
       "      <td>190.50</td>\n",
       "      <td>264.0</td>\n",
       "      <td>32.0</td>\n",
       "      <td>26.0</td>\n",
       "    </tr>\n",
       "  </tbody>\n",
       "</table>\n",
       "<p>5 rows × 145 columns</p>\n",
       "</div>"
      ],
      "text/plain": [
       "              R_fighter       B_fighter          Referee        date  \\\n",
       "0          Henry Cejudo   Marlon Moraes     Marc Goddard  2019-06-08   \n",
       "1  Valentina Shevchenko     Jessica Eye  Robert Madrigal  2019-06-08   \n",
       "2         Tony Ferguson  Donald Cerrone  Dan Miragliotta  2019-06-08   \n",
       "3         Jimmie Rivera        Petr Yan  Kevin MacDonald  2019-06-08   \n",
       "4           Tai Tuivasa   Blagoy Ivanov  Dan Miragliotta  2019-06-08   \n",
       "\n",
       "                 location Winner  title_bout       weight_class  no_of_rounds  \\\n",
       "0  Chicago, Illinois, USA    Red        True       Bantamweight             5   \n",
       "1  Chicago, Illinois, USA    Red        True  Women's Flyweight             5   \n",
       "2  Chicago, Illinois, USA    Red       False        Lightweight             3   \n",
       "3  Chicago, Illinois, USA   Blue       False       Bantamweight             3   \n",
       "4  Chicago, Illinois, USA   Blue       False        Heavyweight             3   \n",
       "\n",
       "   B_current_lose_streak  ...    R_win_by_KO/TKO  R_win_by_Submission  \\\n",
       "0                    0.0  ...                2.0                  0.0   \n",
       "1                    0.0  ...                0.0                  2.0   \n",
       "2                    0.0  ...                3.0                  6.0   \n",
       "3                    0.0  ...                1.0                  0.0   \n",
       "4                    0.0  ...                2.0                  0.0   \n",
       "\n",
       "   R_win_by_TKO_Doctor_Stoppage  R_wins  R_Stance  R_Height_cms  R_Reach_cms  \\\n",
       "0                           0.0     8.0  Orthodox        162.56       162.56   \n",
       "1                           0.0     5.0  Southpaw        165.10       167.64   \n",
       "2                           1.0    14.0  Orthodox        180.34       193.04   \n",
       "3                           0.0     6.0  Orthodox        162.56       172.72   \n",
       "4                           0.0     3.0  Southpaw        187.96       190.50   \n",
       "\n",
       "   R_Weight_lbs  B_age  R_age  \n",
       "0         135.0   31.0   32.0  \n",
       "1         125.0   32.0   31.0  \n",
       "2         155.0   36.0   35.0  \n",
       "3         135.0   26.0   29.0  \n",
       "4         264.0   32.0   26.0  \n",
       "\n",
       "[5 rows x 145 columns]"
      ]
     },
     "execution_count": 3,
     "metadata": {},
     "output_type": "execute_result"
    }
   ],
   "source": [
    "#importing UFC dataframe \n",
    "UFCD = pd.read_csv('UFCDATA.csv')\n",
    "UFCD.head()"
   ]
  },
  {
   "cell_type": "code",
   "execution_count": 4,
   "metadata": {},
   "outputs": [
    {
     "name": "stdout",
     "output_type": "stream",
     "text": [
      "<class 'pandas.core.frame.DataFrame'>\n",
      "RangeIndex: 5144 entries, 0 to 5143\n",
      "Columns: 145 entries, R_fighter to R_age\n",
      "dtypes: bool(1), float64(134), int64(1), object(9)\n",
      "memory usage: 5.7+ MB\n"
     ]
    }
   ],
   "source": [
    "UFCD.info()"
   ]
  },
  {
   "cell_type": "markdown",
   "metadata": {},
   "source": [
    "Since we are only looking at fighters who have had a title fight, we will narrow down the dataframe"
   ]
  },
  {
   "cell_type": "code",
   "execution_count": 5,
   "metadata": {},
   "outputs": [],
   "source": [
    "# Focusing on title fights only (title challengers)\n",
    "UFCD1 = UFCD[UFCD['title_bout'] == True]"
   ]
  },
  {
   "cell_type": "markdown",
   "metadata": {},
   "source": [
    "For each column in the data, if it begins with 'R' it is the red corner, the red corner in this case is already the champion of that weight class therefore not a ‘challenger’. The blue corner is reserved for the lower ranked fighter in this case the challenger. Also removing several irrelevant columns for this analysis."
   ]
  },
  {
   "cell_type": "code",
   "execution_count": 6,
   "metadata": {},
   "outputs": [],
   "source": [
    "RED = [col for col in UFCD1 if col.startswith('R') or col.startswith('B_avg')]"
   ]
  },
  {
   "cell_type": "code",
   "execution_count": 7,
   "metadata": {},
   "outputs": [
    {
     "name": "stderr",
     "output_type": "stream",
     "text": [
      "C:\\Users\\brock\\Anaconda3\\lib\\site-packages\\pandas\\core\\frame.py:3697: SettingWithCopyWarning: \n",
      "A value is trying to be set on a copy of a slice from a DataFrame\n",
      "\n",
      "See the caveats in the documentation: http://pandas.pydata.org/pandas-docs/stable/indexing.html#indexing-view-versus-copy\n",
      "  errors=errors)\n"
     ]
    }
   ],
   "source": [
    "# dropping RED and also dropping a few redundant columns (all title fights are 5 rds, ect)\n",
    "UFCD1.drop(RED,axis=1,inplace = True)\n",
    "UFCD1.drop(['title_bout', 'no_of_rounds'],axis=1,inplace = True)"
   ]
  },
  {
   "cell_type": "code",
   "execution_count": 8,
   "metadata": {},
   "outputs": [
    {
     "name": "stderr",
     "output_type": "stream",
     "text": [
      "C:\\Users\\brock\\Anaconda3\\lib\\site-packages\\pandas\\core\\frame.py:3781: SettingWithCopyWarning: \n",
      "A value is trying to be set on a copy of a slice from a DataFrame\n",
      "\n",
      "See the caveats in the documentation: http://pandas.pydata.org/pandas-docs/stable/indexing.html#indexing-view-versus-copy\n",
      "  return super(DataFrame, self).rename(**kwargs)\n"
     ]
    }
   ],
   "source": [
    "# renaming all columns removing B_\n",
    "for col in UFCD1:\n",
    "    if col.startswith('B_'):\n",
    "        UFCD1.rename(columns= {col:col[2:]},inplace=True)"
   ]
  },
  {
   "cell_type": "code",
   "execution_count": 9,
   "metadata": {},
   "outputs": [
    {
     "data": {
      "text/html": [
       "<div>\n",
       "<style scoped>\n",
       "    .dataframe tbody tr th:only-of-type {\n",
       "        vertical-align: middle;\n",
       "    }\n",
       "\n",
       "    .dataframe tbody tr th {\n",
       "        vertical-align: top;\n",
       "    }\n",
       "\n",
       "    .dataframe thead th {\n",
       "        text-align: right;\n",
       "    }\n",
       "</style>\n",
       "<table border=\"1\" class=\"dataframe\">\n",
       "  <thead>\n",
       "    <tr style=\"text-align: right;\">\n",
       "      <th></th>\n",
       "      <th>fighter</th>\n",
       "      <th>date</th>\n",
       "      <th>location</th>\n",
       "      <th>Winner</th>\n",
       "      <th>weight_class</th>\n",
       "      <th>current_lose_streak</th>\n",
       "      <th>current_win_streak</th>\n",
       "      <th>draw</th>\n",
       "      <th>longest_win_streak</th>\n",
       "      <th>losses</th>\n",
       "      <th>...</th>\n",
       "      <th>win_by_Decision_Unanimous</th>\n",
       "      <th>win_by_KO/TKO</th>\n",
       "      <th>win_by_Submission</th>\n",
       "      <th>win_by_TKO_Doctor_Stoppage</th>\n",
       "      <th>wins</th>\n",
       "      <th>Stance</th>\n",
       "      <th>Height_cms</th>\n",
       "      <th>Reach_cms</th>\n",
       "      <th>Weight_lbs</th>\n",
       "      <th>age</th>\n",
       "    </tr>\n",
       "  </thead>\n",
       "  <tbody>\n",
       "    <tr>\n",
       "      <th>0</th>\n",
       "      <td>Marlon Moraes</td>\n",
       "      <td>2019-06-08</td>\n",
       "      <td>Chicago, Illinois, USA</td>\n",
       "      <td>Red</td>\n",
       "      <td>Bantamweight</td>\n",
       "      <td>0.0</td>\n",
       "      <td>4.0</td>\n",
       "      <td>0.0</td>\n",
       "      <td>4.0</td>\n",
       "      <td>1.0</td>\n",
       "      <td>...</td>\n",
       "      <td>0.0</td>\n",
       "      <td>2.0</td>\n",
       "      <td>1.0</td>\n",
       "      <td>0.0</td>\n",
       "      <td>4.0</td>\n",
       "      <td>Orthodox</td>\n",
       "      <td>167.64</td>\n",
       "      <td>170.18</td>\n",
       "      <td>135.0</td>\n",
       "      <td>31.0</td>\n",
       "    </tr>\n",
       "    <tr>\n",
       "      <th>1</th>\n",
       "      <td>Jessica Eye</td>\n",
       "      <td>2019-06-08</td>\n",
       "      <td>Chicago, Illinois, USA</td>\n",
       "      <td>Red</td>\n",
       "      <td>Women's Flyweight</td>\n",
       "      <td>0.0</td>\n",
       "      <td>3.0</td>\n",
       "      <td>0.0</td>\n",
       "      <td>3.0</td>\n",
       "      <td>6.0</td>\n",
       "      <td>...</td>\n",
       "      <td>1.0</td>\n",
       "      <td>0.0</td>\n",
       "      <td>0.0</td>\n",
       "      <td>1.0</td>\n",
       "      <td>4.0</td>\n",
       "      <td>Orthodox</td>\n",
       "      <td>167.64</td>\n",
       "      <td>167.64</td>\n",
       "      <td>125.0</td>\n",
       "      <td>32.0</td>\n",
       "    </tr>\n",
       "    <tr>\n",
       "      <th>38</th>\n",
       "      <td>Jessica Andrade</td>\n",
       "      <td>2019-05-11</td>\n",
       "      <td>Rio de Janeiro, Rio de Janeiro, Brazil</td>\n",
       "      <td>Blue</td>\n",
       "      <td>Women's Strawweight</td>\n",
       "      <td>0.0</td>\n",
       "      <td>3.0</td>\n",
       "      <td>0.0</td>\n",
       "      <td>3.0</td>\n",
       "      <td>4.0</td>\n",
       "      <td>...</td>\n",
       "      <td>5.0</td>\n",
       "      <td>2.0</td>\n",
       "      <td>2.0</td>\n",
       "      <td>0.0</td>\n",
       "      <td>10.0</td>\n",
       "      <td>Orthodox</td>\n",
       "      <td>154.94</td>\n",
       "      <td>157.48</td>\n",
       "      <td>115.0</td>\n",
       "      <td>27.0</td>\n",
       "    </tr>\n",
       "    <tr>\n",
       "      <th>86</th>\n",
       "      <td>Dustin Poirier</td>\n",
       "      <td>2019-04-13</td>\n",
       "      <td>Atlanta, Georgia, USA</td>\n",
       "      <td>Blue</td>\n",
       "      <td>Lightweight</td>\n",
       "      <td>0.0</td>\n",
       "      <td>3.0</td>\n",
       "      <td>0.0</td>\n",
       "      <td>4.0</td>\n",
       "      <td>5.0</td>\n",
       "      <td>...</td>\n",
       "      <td>4.0</td>\n",
       "      <td>8.0</td>\n",
       "      <td>3.0</td>\n",
       "      <td>0.0</td>\n",
       "      <td>16.0</td>\n",
       "      <td>Southpaw</td>\n",
       "      <td>175.26</td>\n",
       "      <td>182.88</td>\n",
       "      <td>155.0</td>\n",
       "      <td>30.0</td>\n",
       "    </tr>\n",
       "    <tr>\n",
       "      <th>87</th>\n",
       "      <td>Israel Adesanya</td>\n",
       "      <td>2019-04-13</td>\n",
       "      <td>Atlanta, Georgia, USA</td>\n",
       "      <td>Blue</td>\n",
       "      <td>Middleweight</td>\n",
       "      <td>0.0</td>\n",
       "      <td>5.0</td>\n",
       "      <td>0.0</td>\n",
       "      <td>5.0</td>\n",
       "      <td>0.0</td>\n",
       "      <td>...</td>\n",
       "      <td>2.0</td>\n",
       "      <td>2.0</td>\n",
       "      <td>0.0</td>\n",
       "      <td>0.0</td>\n",
       "      <td>5.0</td>\n",
       "      <td>Switch</td>\n",
       "      <td>193.04</td>\n",
       "      <td>203.20</td>\n",
       "      <td>185.0</td>\n",
       "      <td>29.0</td>\n",
       "    </tr>\n",
       "  </tbody>\n",
       "</table>\n",
       "<p>5 rows × 25 columns</p>\n",
       "</div>"
      ],
      "text/plain": [
       "            fighter        date                                location  \\\n",
       "0     Marlon Moraes  2019-06-08                  Chicago, Illinois, USA   \n",
       "1       Jessica Eye  2019-06-08                  Chicago, Illinois, USA   \n",
       "38  Jessica Andrade  2019-05-11  Rio de Janeiro, Rio de Janeiro, Brazil   \n",
       "86   Dustin Poirier  2019-04-13                   Atlanta, Georgia, USA   \n",
       "87  Israel Adesanya  2019-04-13                   Atlanta, Georgia, USA   \n",
       "\n",
       "   Winner         weight_class  current_lose_streak  current_win_streak  draw  \\\n",
       "0     Red         Bantamweight                  0.0                 4.0   0.0   \n",
       "1     Red    Women's Flyweight                  0.0                 3.0   0.0   \n",
       "38   Blue  Women's Strawweight                  0.0                 3.0   0.0   \n",
       "86   Blue          Lightweight                  0.0                 3.0   0.0   \n",
       "87   Blue         Middleweight                  0.0                 5.0   0.0   \n",
       "\n",
       "    longest_win_streak  losses  ...   win_by_Decision_Unanimous  \\\n",
       "0                  4.0     1.0  ...                         0.0   \n",
       "1                  3.0     6.0  ...                         1.0   \n",
       "38                 3.0     4.0  ...                         5.0   \n",
       "86                 4.0     5.0  ...                         4.0   \n",
       "87                 5.0     0.0  ...                         2.0   \n",
       "\n",
       "    win_by_KO/TKO  win_by_Submission  win_by_TKO_Doctor_Stoppage  wins  \\\n",
       "0             2.0                1.0                         0.0   4.0   \n",
       "1             0.0                0.0                         1.0   4.0   \n",
       "38            2.0                2.0                         0.0  10.0   \n",
       "86            8.0                3.0                         0.0  16.0   \n",
       "87            2.0                0.0                         0.0   5.0   \n",
       "\n",
       "      Stance  Height_cms  Reach_cms  Weight_lbs   age  \n",
       "0   Orthodox      167.64     170.18       135.0  31.0  \n",
       "1   Orthodox      167.64     167.64       125.0  32.0  \n",
       "38  Orthodox      154.94     157.48       115.0  27.0  \n",
       "86  Southpaw      175.26     182.88       155.0  30.0  \n",
       "87    Switch      193.04     203.20       185.0  29.0  \n",
       "\n",
       "[5 rows x 25 columns]"
      ]
     },
     "execution_count": 9,
     "metadata": {},
     "output_type": "execute_result"
    }
   ],
   "source": [
    "UFCD1.head()"
   ]
  },
  {
   "cell_type": "markdown",
   "metadata": {},
   "source": [
    "In the early days of the UFC (1993-2000) there were several rapid changes as the sport was growing, for example in 1993 there were no weight classes, rounds, or judges. The only three rules were, no biting, no eye gouging, and no groin shots. Although MMA is a rough sport there is much more sophistication in the modern era of the UFC, which began in 2001 when the company Zuffa purchased the UFC. This keeps the data within 20 years of today and creates a more accurate representation of the sport currently."
   ]
  },
  {
   "cell_type": "code",
   "execution_count": 10,
   "metadata": {},
   "outputs": [],
   "source": [
    "UFCD2 = UFCD1[UFCD1['date'] >= '2001-01-01']"
   ]
  },
  {
   "cell_type": "markdown",
   "metadata": {},
   "source": [
    "I decided to remove two weight classes from the current total of 12. Woman’s Flyweight and Woman’s Featherweight are brand new weight classes introduced post 2016, with such little data I felt they should be removed.\n",
    "\n",
    "Weight Class Break Down\n",
    "\n",
    "Mens\n",
    "- Flyweight                 125LBS\n",
    "- Bantamweight              135LBS\n",
    "- Featherweight             145LBS\n",
    "- Lightweight               155LBS\n",
    "- Welterweight              170LBS\n",
    "- Middleweight              185LBS\n",
    "- Light HeavyWeight         205LBS\n",
    "- Heavyweight               265LBS\n",
    "\n",
    "Womans\n",
    "- Women's Strawweight       115LBS\n",
    "- Women's Flyweight         125LBS\n",
    "- Women's Bantamweight      135LBS\n",
    "- Women's Featherweight     145LBS"
   ]
  },
  {
   "cell_type": "code",
   "execution_count": 11,
   "metadata": {},
   "outputs": [
    {
     "data": {
      "text/plain": [
       "Welterweight              True\n",
       "Light Heavyweight         True\n",
       "Heavyweight               True\n",
       "Middleweight              True\n",
       "Lightweight               True\n",
       "Bantamweight              True\n",
       "Featherweight             True\n",
       "Flyweight                 True\n",
       "Women's Bantamweight      True\n",
       "Women's Strawweight       True\n",
       "Women's Featherweight    False\n",
       "Women's Flyweight        False\n",
       "Name: weight_class, dtype: bool"
      ]
     },
     "execution_count": 11,
     "metadata": {},
     "output_type": "execute_result"
    }
   ],
   "source": [
    "#less then 10 title fights \n",
    "UFCD2['weight_class'].value_counts() > 10"
   ]
  },
  {
   "cell_type": "code",
   "execution_count": 12,
   "metadata": {},
   "outputs": [],
   "source": [
    "UFCD3 = UFCD2[(UFCD2['weight_class'] != \"Women's Flyweight\") & (UFCD2['weight_class'] != \"Women's Featherweight\")]"
   ]
  },
  {
   "cell_type": "code",
   "execution_count": 13,
   "metadata": {},
   "outputs": [
    {
     "name": "stderr",
     "output_type": "stream",
     "text": [
      "C:\\Users\\brock\\Anaconda3\\lib\\site-packages\\ipykernel_launcher.py:3: SettingWithCopyWarning: \n",
      "A value is trying to be set on a copy of a slice from a DataFrame.\n",
      "Try using .loc[row_indexer,col_indexer] = value instead\n",
      "\n",
      "See the caveats in the documentation: http://pandas.pydata.org/pandas-docs/stable/indexing.html#indexing-view-versus-copy\n",
      "  This is separate from the ipykernel package so we can avoid doing imports until\n",
      "C:\\Users\\brock\\Anaconda3\\lib\\site-packages\\ipykernel_launcher.py:4: SettingWithCopyWarning: \n",
      "A value is trying to be set on a copy of a slice from a DataFrame.\n",
      "Try using .loc[row_indexer,col_indexer] = value instead\n",
      "\n",
      "See the caveats in the documentation: http://pandas.pydata.org/pandas-docs/stable/indexing.html#indexing-view-versus-copy\n",
      "  after removing the cwd from sys.path.\n",
      "C:\\Users\\brock\\Anaconda3\\lib\\site-packages\\ipykernel_launcher.py:5: SettingWithCopyWarning: \n",
      "A value is trying to be set on a copy of a slice from a DataFrame.\n",
      "Try using .loc[row_indexer,col_indexer] = value instead\n",
      "\n",
      "See the caveats in the documentation: http://pandas.pydata.org/pandas-docs/stable/indexing.html#indexing-view-versus-copy\n",
      "  \"\"\"\n"
     ]
    }
   ],
   "source": [
    "# Converted cms into inches as that universally is the UFC measuring system\n",
    "# Also changed time fought from seconds to minutes for easy interpretation\n",
    "UFCD3['height_inches'] = UFCD3['Height_cms'] / 2.54\n",
    "UFCD3['reach_inches'] = UFCD3['Reach_cms'] / 2.54 \n",
    "UFCD3['time_fought(minutes)'] = UFCD3['total_time_fought(seconds)'] / 60\n",
    "#Dropped old columns\n",
    "UFCD3.drop(['Height_cms','Reach_cms'],axis=1,inplace=True)"
   ]
  },
  {
   "cell_type": "code",
   "execution_count": 14,
   "metadata": {},
   "outputs": [],
   "source": [
    "# removing caps from a few columns\n",
    "UFCD3.rename(columns = {'Weight_lbs':'weight_lbs','win_by_Submission':'wins_SUB', 'Winner':'winner','Stance':'stance'}, inplace=True)"
   ]
  },
  {
   "cell_type": "markdown",
   "metadata": {},
   "source": [
    "After filtering fighters who gained a title shot with 0 UFC fights, I discovered this data includes some fighter accolades such as The Ultimate Fighter (TV Show Contest) wins as \"title bouts\", which doesn't make sense to keep for my goals for this analysis."
   ]
  },
  {
   "cell_type": "code",
   "execution_count": 15,
   "metadata": {},
   "outputs": [],
   "source": [
    "UFCD4 = UFCD3[UFCD3['wins'] != 0]"
   ]
  },
  {
   "cell_type": "markdown",
   "metadata": {},
   "source": [
    "### Adding new features"
   ]
  },
  {
   "cell_type": "markdown",
   "metadata": {},
   "source": [
    "Instead of wins by KO and doctor stoppage (TKO) I combine them to create a KO/TKO fight finish column, I do the same with the various types of decision victories."
   ]
  },
  {
   "cell_type": "code",
   "execution_count": 16,
   "metadata": {},
   "outputs": [
    {
     "name": "stderr",
     "output_type": "stream",
     "text": [
      "C:\\Users\\brock\\Anaconda3\\lib\\site-packages\\ipykernel_launcher.py:2: SettingWithCopyWarning: \n",
      "A value is trying to be set on a copy of a slice from a DataFrame.\n",
      "Try using .loc[row_indexer,col_indexer] = value instead\n",
      "\n",
      "See the caveats in the documentation: http://pandas.pydata.org/pandas-docs/stable/indexing.html#indexing-view-versus-copy\n",
      "  \n",
      "C:\\Users\\brock\\Anaconda3\\lib\\site-packages\\ipykernel_launcher.py:3: SettingWithCopyWarning: \n",
      "A value is trying to be set on a copy of a slice from a DataFrame.\n",
      "Try using .loc[row_indexer,col_indexer] = value instead\n",
      "\n",
      "See the caveats in the documentation: http://pandas.pydata.org/pandas-docs/stable/indexing.html#indexing-view-versus-copy\n",
      "  This is separate from the ipykernel package so we can avoid doing imports until\n"
     ]
    }
   ],
   "source": [
    "# making new columns, adding all KOs together and types of dec together\n",
    "UFCD4['wins_KO/TKO'] = UFCD4['win_by_TKO_Doctor_Stoppage'] + UFCD4['win_by_KO/TKO']\n",
    "UFCD4['wins_DEC'] = UFCD4['win_by_Decision_Majority'] + UFCD4['win_by_Decision_Split'] + UFCD4['win_by_Decision_Unanimous']"
   ]
  },
  {
   "cell_type": "code",
   "execution_count": 17,
   "metadata": {},
   "outputs": [],
   "source": [
    "# dropping the columns used to create the new ones, as well as a few other columns including draws and title bouts\n",
    "drop_list = ['win_by_Decision_Majority','win_by_Decision_Split',\n",
    "             'win_by_Decision_Unanimous','win_by_TKO_Doctor_Stoppage',\n",
    "            'win_by_KO/TKO','total_title_bouts','draw',]\n",
    "UFCD4.drop(drop_list,axis = 1,inplace = True)"
   ]
  },
  {
   "cell_type": "markdown",
   "metadata": {},
   "source": [
    "I decide to remove fighters with multiple title shots from the data only keeping their first entry, this avoids repeated data. I also add a finishes column, adding a fighters total Knockout and Submission wins."
   ]
  },
  {
   "cell_type": "code",
   "execution_count": 18,
   "metadata": {},
   "outputs": [
    {
     "name": "stderr",
     "output_type": "stream",
     "text": [
      "C:\\Users\\brock\\Anaconda3\\lib\\site-packages\\pandas\\core\\base.py:1241: SettingWithCopyWarning: \n",
      "A value is trying to be set on a copy of a slice from a DataFrame\n",
      "\n",
      "See the caveats in the documentation: http://pandas.pydata.org/pandas-docs/stable/indexing.html#indexing-view-versus-copy\n",
      "  return self._update_inplace(result)\n"
     ]
    }
   ],
   "source": [
    "UFCD4['fighter'].drop_duplicates(keep='first',inplace= True)"
   ]
  },
  {
   "cell_type": "code",
   "execution_count": 19,
   "metadata": {},
   "outputs": [
    {
     "name": "stderr",
     "output_type": "stream",
     "text": [
      "C:\\Users\\brock\\Anaconda3\\lib\\site-packages\\ipykernel_launcher.py:2: SettingWithCopyWarning: \n",
      "A value is trying to be set on a copy of a slice from a DataFrame.\n",
      "Try using .loc[row_indexer,col_indexer] = value instead\n",
      "\n",
      "See the caveats in the documentation: http://pandas.pydata.org/pandas-docs/stable/indexing.html#indexing-view-versus-copy\n",
      "  \n"
     ]
    }
   ],
   "source": [
    "# add finishes column\n",
    "UFCD4['wins_finish'] = UFCD4['wins_KO/TKO'] + UFCD4['wins_SUB']"
   ]
  },
  {
   "cell_type": "markdown",
   "metadata": {},
   "source": [
    "Now the cleaned data frame by column definition:\n",
    "- fighter is the fighter by first and last name\n",
    "- weight_class is which weight class the fight is in (Bantamweight, heavyweight, Women's Strawweight, etc.)\n",
    "- winner is the winner of the fight\n",
    "- stance is the stance of the fighter (orthodox, southpaw, etc.)\n",
    "- height_inches is the height in inches\n",
    "- reach_inches is the reach of the fighter (arm span) in inches\n",
    "- weight_lbs is the weight of the fighter in pounds (lbs)\n",
    "- age is the age of the fighter\n",
    "- current_lose_streak is the count of current concurrent losses of the fighter\n",
    "- current_win_streak is the count of current concurrent wins of the fighter\n",
    "- wins is the number of wins in the fighter's ufc career\n",
    "- losses is the number of losses in the fighter's ufc career\n",
    "- total_rounds_fought is the average of total rounds fought by the fighter - - \n",
    "- wins_DEC is the number of wins by judges decision in the fighter's ufc career\n",
    "- wins_KO/TKO is the total number of wins by knockout in the fighter's ufc career\n",
    "- wins_SUB is the number of wins by submission in the fighter's ufc career\n",
    "- wins_finish is the total number of wins by finish (SUB,KO,TKO) in the fighter's UFC career."
   ]
  },
  {
   "cell_type": "markdown",
   "metadata": {},
   "source": [
    "### Visual Analysis"
   ]
  },
  {
   "cell_type": "markdown",
   "metadata": {},
   "source": [
    "A look at the wins required to earn a title shot in the UFC"
   ]
  },
  {
   "cell_type": "code",
   "execution_count": 20,
   "metadata": {},
   "outputs": [
    {
     "name": "stderr",
     "output_type": "stream",
     "text": [
      "C:\\Users\\brock\\Anaconda3\\lib\\site-packages\\scipy\\stats\\stats.py:1713: FutureWarning: Using a non-tuple sequence for multidimensional indexing is deprecated; use `arr[tuple(seq)]` instead of `arr[seq]`. In the future this will be interpreted as an array index, `arr[np.array(seq)]`, which will result either in an error or a different result.\n",
      "  return np.add.reduce(sorted[indexer] * weights, axis=axis) / sumval\n"
     ]
    },
    {
     "data": {
      "image/png": "[encoded data removed]",
      "text/plain": [
       "<Figure size 432x288 with 1 Axes>"
      ]
     },
     "metadata": {
      "needs_background": "light"
     },
     "output_type": "display_data"
    }
   ],
   "source": [
    "sns.distplot(UFCD4['wins'],bins=10)\n",
    "plt.title('Challenger Wins',fontsize= 12,fontweight='bold')\n",
    "plt.show()"
   ]
  },
  {
   "cell_type": "markdown",
   "metadata": {},
   "source": [
    "With a positive data skew, it appears most UFC fights must win 4 - 8 fights to earn a UFC title shot. Let’s take a look at longest win streaks before acquiring a title shot."
   ]
  },
  {
   "cell_type": "code",
   "execution_count": 21,
   "metadata": {},
   "outputs": [
    {
     "data": {
      "image/png": "[encoded data removed]",
      "text/plain": [
       "<Figure size 432x288 with 1 Axes>"
      ]
     },
     "metadata": {
      "needs_background": "light"
     },
     "output_type": "display_data"
    }
   ],
   "source": [
    "sns.distplot(UFCD4['longest_win_streak'],bins = 10)\n",
    "plt.title('Win Streaks',fontsize= 12,fontweight='bold')\n",
    "plt.show()"
   ]
  },
  {
   "cell_type": "markdown",
   "metadata": {},
   "source": [
    "It appears most fighters are coming in with at least a 3-5 fight win streak. These numbers make sense looking at the averages for wins and longest win streak."
   ]
  },
  {
   "cell_type": "code",
   "execution_count": 22,
   "metadata": {},
   "outputs": [
    {
     "data": {
      "text/plain": [
       "wins                  6.427928\n",
       "longest_win_streak    4.283784\n",
       "dtype: float64"
      ]
     },
     "execution_count": 22,
     "metadata": {},
     "output_type": "execute_result"
    }
   ],
   "source": [
    "UFCD4[['wins','longest_win_streak']].mean()"
   ]
  },
  {
   "cell_type": "markdown",
   "metadata": {
    "scrolled": true
   },
   "source": [
    "#### What Weight Class is the Most Difficult to get a Title Shot in? \n",
    "\n",
    "A look at the average wins and losses for the UFC title contenders by weight class."
   ]
  },
  {
   "cell_type": "code",
   "execution_count": 23,
   "metadata": {},
   "outputs": [
    {
     "data": {
      "image/png": "[encoded data removed]",
      "text/plain": [
       "<Figure size 1152x360 with 1 Axes>"
      ]
     },
     "metadata": {
      "needs_background": "light"
     },
     "output_type": "display_data"
    }
   ],
   "source": [
    "plt.figure(figsize = (16,5))\n",
    "sns.barplot(x='weight_class',y='wins',data= UFCD4)\n",
    "plt.title('Wins Before Title Shot',fontsize= 20,fontweight='bold')\n",
    "plt.show()"
   ]
  },
  {
   "cell_type": "code",
   "execution_count": 24,
   "metadata": {},
   "outputs": [
    {
     "data": {
      "image/png": "[encoded data removed]",
      "text/plain": [
       "<Figure size 1152x360 with 1 Axes>"
      ]
     },
     "metadata": {
      "needs_background": "light"
     },
     "output_type": "display_data"
    }
   ],
   "source": [
    "plt.figure(figsize = (16,5))\n",
    "sns.barplot(data = UFCD4,x='weight_class',y='losses')\n",
    "plt.title('Losses Before Title Shot',fontsize= 20,fontweight='bold')\n",
    "plt.show()"
   ]
  },
  {
   "cell_type": "markdown",
   "metadata": {},
   "source": [
    "It seems Middleweight has both the highest average wins and losses before a title fight."
   ]
  },
  {
   "cell_type": "code",
   "execution_count": 25,
   "metadata": {},
   "outputs": [
    {
     "data": {
      "text/plain": [
       "weight_class\n",
       "Middleweight            7.357143\n",
       "Lightweight             7.076923\n",
       "Light Heavyweight       7.054054\n",
       "Featherweight           7.000000\n",
       "Welterweight            6.885714\n",
       "Heavyweight             6.428571\n",
       "Flyweight               4.928571\n",
       "Bantamweight            4.857143\n",
       "Women's Strawweight     4.444444\n",
       "Women's Bantamweight    3.500000\n",
       "Name: wins, dtype: float64"
      ]
     },
     "execution_count": 25,
     "metadata": {},
     "output_type": "execute_result"
    }
   ],
   "source": [
    "UFCD4.groupby('weight_class')['wins'].mean().sort_values(ascending=False)"
   ]
  },
  {
   "cell_type": "code",
   "execution_count": 26,
   "metadata": {},
   "outputs": [
    {
     "data": {
      "text/plain": [
       "weight_class\n",
       "Middleweight            2.035714\n",
       "Lightweight             2.000000\n",
       "Light Heavyweight       1.945946\n",
       "Welterweight            1.914286\n",
       "Featherweight           1.714286\n",
       "Heavyweight             1.514286\n",
       "Flyweight               1.428571\n",
       "Women's Strawweight     1.222222\n",
       "Bantamweight            1.142857\n",
       "Women's Bantamweight    0.700000\n",
       "Name: losses, dtype: float64"
      ]
     },
     "execution_count": 26,
     "metadata": {},
     "output_type": "execute_result"
    }
   ],
   "source": [
    "UFCD4.groupby('weight_class')['losses'].mean().sort_values(ascending=False)"
   ]
  },
  {
   "cell_type": "markdown",
   "metadata": {},
   "source": [
    "To truly see the weight class with the highest difficultly in terms of wins and losses, I must look at the win loss differential for each weight class."
   ]
  },
  {
   "cell_type": "code",
   "execution_count": 27,
   "metadata": {},
   "outputs": [
    {
     "data": {
      "text/plain": [
       "weight_class\n",
       "Middleweight            5.321429\n",
       "Featherweight           5.285714\n",
       "Light Heavyweight       5.108108\n",
       "Lightweight             5.076923\n",
       "Welterweight            4.971429\n",
       "Heavyweight             4.914286\n",
       "Bantamweight            3.714286\n",
       "Flyweight               3.500000\n",
       "Women's Strawweight     3.222222\n",
       "Women's Bantamweight    2.800000\n",
       "dtype: float64"
      ]
     },
     "execution_count": 27,
     "metadata": {},
     "output_type": "execute_result"
    }
   ],
   "source": [
    "win_loss_dif = UFCD4.groupby('weight_class')['wins'].mean() - UFCD4.groupby('weight_class')['losses'].mean()\n",
    "win_loss_dif.sort_values(ascending = False)"
   ]
  },
  {
   "cell_type": "code",
   "execution_count": 28,
   "metadata": {},
   "outputs": [
    {
     "name": "stderr",
     "output_type": "stream",
     "text": [
      "C:\\Users\\brock\\Anaconda3\\lib\\site-packages\\ipykernel_launcher.py:1: SettingWithCopyWarning: \n",
      "A value is trying to be set on a copy of a slice from a DataFrame.\n",
      "Try using .loc[row_indexer,col_indexer] = value instead\n",
      "\n",
      "See the caveats in the documentation: http://pandas.pydata.org/pandas-docs/stable/indexing.html#indexing-view-versus-copy\n",
      "  \"\"\"Entry point for launching an IPython kernel.\n"
     ]
    }
   ],
   "source": [
    "UFCD4['win/loss_diff'] = UFCD4['wins'] - UFCD4['losses']"
   ]
  },
  {
   "cell_type": "markdown",
   "metadata": {},
   "source": [
    "It appears that Middle weight still holds strong at the highest win loss differential however we did see some changes in other weight classes. \n",
    "\n",
    "Next I will look to see over time if the win/loss differential for title challengers has changed"
   ]
  },
  {
   "cell_type": "code",
   "execution_count": 29,
   "metadata": {},
   "outputs": [
    {
     "name": "stderr",
     "output_type": "stream",
     "text": [
      "C:\\Users\\brock\\Anaconda3\\lib\\site-packages\\ipykernel_launcher.py:2: SettingWithCopyWarning: \n",
      "A value is trying to be set on a copy of a slice from a DataFrame.\n",
      "Try using .loc[row_indexer,col_indexer] = value instead\n",
      "\n",
      "See the caveats in the documentation: http://pandas.pydata.org/pandas-docs/stable/indexing.html#indexing-view-versus-copy\n",
      "  \n",
      "C:\\Users\\brock\\Anaconda3\\lib\\site-packages\\ipykernel_launcher.py:3: SettingWithCopyWarning: \n",
      "A value is trying to be set on a copy of a slice from a DataFrame.\n",
      "Try using .loc[row_indexer,col_indexer] = value instead\n",
      "\n",
      "See the caveats in the documentation: http://pandas.pydata.org/pandas-docs/stable/indexing.html#indexing-view-versus-copy\n",
      "  This is separate from the ipykernel package so we can avoid doing imports until\n"
     ]
    }
   ],
   "source": [
    "#Setting date as a datetime variable \n",
    "UFCD4['date'] = pd.to_datetime(UFCD4['date'])\n",
    "UFCD4['date']= UFCD4['date'].apply(lambda t: t.date())"
   ]
  },
  {
   "cell_type": "code",
   "execution_count": 30,
   "metadata": {},
   "outputs": [
    {
     "data": {
      "image/png": "[encoded data removed]",
      "text/plain": [
       "<Figure size 1152x360 with 1 Axes>"
      ]
     },
     "metadata": {
      "needs_background": "light"
     },
     "output_type": "display_data"
    }
   ],
   "source": [
    "plt.figure(figsize = (16,5))\n",
    "sns.lineplot(x='date',y='win/loss_diff',data=UFCD4,color='r')\n",
    "plt.title('Win/Loss Differential Over the Years',fontsize= 12,fontweight='bold')\n",
    "plt.show()"
   ]
  },
  {
   "cell_type": "markdown",
   "metadata": {},
   "source": [
    "It's interesting, despite all the changes made the win loss differential has remained fairly similar over the years, with a slight increasing trend."
   ]
  },
  {
   "cell_type": "markdown",
   "metadata": {},
   "source": [
    "\n",
    "Next, I will explore how title challengers are doing in their fights versus the champion."
   ]
  },
  {
   "cell_type": "code",
   "execution_count": 83,
   "metadata": {},
   "outputs": [
    {
     "data": {
      "image/png": "[encoded data removed]",
      "text/plain": [
       "<Figure size 432x288 with 1 Axes>"
      ]
     },
     "metadata": {
      "needs_background": "light"
     },
     "output_type": "display_data"
    }
   ],
   "source": [
    "sns.distplot(UFCD4['time_fought(minutes)'],bins = 10)\n",
    "plt.title('Title Fight Duration',fontsize= 12,fontweight='bold')\n",
    "plt.show()"
   ]
  },
  {
   "cell_type": "markdown",
   "metadata": {},
   "source": [
    "Generally fighters are lasting 8-12 minutes with the champion, meaning many fights are getting finished.\n",
    "\n",
    "Let's look at the how long the fight is lasting based on the winner of the fight."
   ]
  },
  {
   "cell_type": "code",
   "execution_count": 88,
   "metadata": {},
   "outputs": [
    {
     "data": {
      "image/png": "[encoded data removed]",
      "text/plain": [
       "<Figure size 648x216 with 3 Axes>"
      ]
     },
     "metadata": {
      "needs_background": "light"
     },
     "output_type": "display_data"
    }
   ],
   "source": [
    "w = sns.FacetGrid(data=UFCD4,col='winner')\n",
    "w.map(sns.distplot,'time_fought(minutes)',bins=5)\n",
    "plt.show()"
   ]
  },
  {
   "cell_type": "markdown",
   "metadata": {},
   "source": [
    "It appears for the most part if the current champion (red) wins the fight it typically lasts 10 minutes, if the challenger is wins (blue) the fight goes longer in the 12-15 minute range. "
   ]
  },
  {
   "cell_type": "markdown",
   "metadata": {},
   "source": [
    "Next we will see who is winning the fight more often, challanger or champion per weight class."
   ]
  },
  {
   "cell_type": "code",
   "execution_count": 118,
   "metadata": {
    "scrolled": true
   },
   "outputs": [
    {
     "data": {
      "image/png": "[encoded data removed]",
      "text/plain": [
       "<Figure size 1152x360 with 1 Axes>"
      ]
     },
     "metadata": {
      "needs_background": "light"
     },
     "output_type": "display_data"
    }
   ],
   "source": [
    "plt.figure(figsize = (16,5))\n",
    "sns.countplot(x ='weight_class',data=UFCD4, hue='winner')\n",
    "plt.title('Title Challenger Success',fontsize= 20,fontweight='bold')\n",
    "plt.ylabel('Wins')\n",
    "plt.show()"
   ]
  },
  {
   "cell_type": "markdown",
   "metadata": {},
   "source": [
    "In summary it seems Middle weight requires the best win / loss differential to earn a title shot. However, Light Heavyweight appears to be the most difficult weight class for challengers to beat the champion. Regardless of the weight class challengers have a tough time defeating the champion."
   ]
  },
  {
   "cell_type": "markdown",
   "metadata": {},
   "source": [
    "#### How Important is Expirence in Earning and Wnning a Title Fight in the UFC?\n",
    "\n",
    "Plotting the average age of a UFC title challenger"
   ]
  },
  {
   "cell_type": "code",
   "execution_count": 125,
   "metadata": {},
   "outputs": [
    {
     "data": {
      "image/png": "[encoded data removed]",
      "text/plain": [
       "<Figure size 432x288 with 1 Axes>"
      ]
     },
     "metadata": {
      "needs_background": "light"
     },
     "output_type": "display_data"
    }
   ],
   "source": [
    "sns.distplot(UFCD4['age'],bins=10)\n",
    "plt.title('Age of Title Contenders',fontsize= 12,fontweight='bold')\n",
    "plt.show()"
   ]
  },
  {
   "cell_type": "code",
   "execution_count": 126,
   "metadata": {},
   "outputs": [
    {
     "data": {
      "text/plain": [
       "age\n",
       "30.0    25\n",
       "33.0    23\n",
       "27.0    22\n",
       "29.0    21\n",
       "32.0    20\n",
       "Name: age, dtype: int64"
      ]
     },
     "execution_count": 126,
     "metadata": {},
     "output_type": "execute_result"
    }
   ],
   "source": [
    "UFCD4.groupby('age')['age'].count().sort_values(ascending = False).head()"
   ]
  },
  {
   "cell_type": "markdown",
   "metadata": {},
   "source": [
    "It appears the average age is from 27-33, which is generally in the athletic peak for most athletes. Let’s look at the average age of title challengers by weight class."
   ]
  },
  {
   "cell_type": "code",
   "execution_count": 33,
   "metadata": {},
   "outputs": [
    {
     "data": {
      "text/plain": [
       "weight_class\n",
       "Women's Strawweight     28.444444\n",
       "Bantamweight            28.857143\n",
       "Featherweight           28.928571\n",
       "Flyweight               28.928571\n",
       "Lightweight             29.153846\n",
       "Welterweight            30.114286\n",
       "Women's Bantamweight    30.400000\n",
       "Heavyweight             31.771429\n",
       "Light Heavyweight       31.945946\n",
       "Middleweight            32.321429\n",
       "Name: age, dtype: float64"
      ]
     },
     "execution_count": 33,
     "metadata": {},
     "output_type": "execute_result"
    }
   ],
   "source": [
    "UFCD4.groupby('weight_class')['age'].mean().sort_values()"
   ]
  },
  {
   "cell_type": "markdown",
   "metadata": {},
   "source": [
    "It looks as expected, no surprises in terms of age by weight class, all stay in the 27-33 range."
   ]
  },
  {
   "cell_type": "markdown",
   "metadata": {},
   "source": [
    "Let’s take a deeper look in a more sport specific way, plotting the success of title challengers based on their total rounds fought before a title fight (Blue indicates the challenger won and red indicates the champion won)."
   ]
  },
  {
   "cell_type": "code",
   "execution_count": 34,
   "metadata": {},
   "outputs": [
    {
     "data": {
      "image/png": "[encoded data removed]",
      "text/plain": [
       "<Figure size 864x432 with 1 Axes>"
      ]
     },
     "metadata": {
      "needs_background": "light"
     },
     "output_type": "display_data"
    }
   ],
   "source": [
    "plt.figure(figsize = (12,6))\n",
    "ax = sns.boxplot(data=UFCD4,x='winner', y='total_rounds_fought')\n",
    "sns.swarmplot(x=\"winner\", y=\"total_rounds_fought\", data=UFCD4,\n",
    "              size=2, color='black')\n",
    "plt.title('Title Challenger Success',fontsize= 15,fontweight='bold')\n",
    "ax.set_ylabel('Total Rounds Fought')\n",
    "mybox1 = ax.artists[0]\n",
    "mybox1.set_facecolor('red')\n",
    "mybox2 = ax.artists[1]\n",
    "mybox2.set_facecolor('blue')"
   ]
  },
  {
   "cell_type": "markdown",
   "metadata": {},
   "source": [
    "Generally, it seems title challengers with less total rounds have a slightly better chance at winning. This is an interesting stat for title challengers who won, in the nature of this sport too much fight experience can mean more damage to the fighter’s body. Rendering them worse off or susceptible to injury in future fights. However, another point to note is fighters with fewer total rounds are finishing their fights quicker and more dominantly."
   ]
  },
  {
   "cell_type": "code",
   "execution_count": 127,
   "metadata": {},
   "outputs": [
    {
     "data": {
      "text/plain": [
       "Text(0, 0.5, 'Total Rounds Fought')"
      ]
     },
     "execution_count": 127,
     "metadata": {},
     "output_type": "execute_result"
    },
    {
     "data": {
      "image/png": "[encoded data removed]",
      "text/plain": [
       "<Figure size 1296x432 with 1 Axes>"
      ]
     },
     "metadata": {
      "needs_background": "light"
     },
     "output_type": "display_data"
    }
   ],
   "source": [
    "#By weight class\n",
    "plt.figure(figsize = (18,6))\n",
    "ax = sns.boxplot(data=UFCD4,x='weight_class', y='total_rounds_fought',hue='winner')\n",
    "plt.title('Title Challenger Success by Weight Class',fontsize= 15,fontweight='bold')\n",
    "ax.set_ylabel('Total Rounds Fought')"
   ]
  },
  {
   "cell_type": "markdown",
   "metadata": {},
   "source": [
    "It appears that the rounds fought is dependant on weight class, Middleweight, Woman's Strawweight, Woman’s Bantamweight Lightweight and Heavyweight all reward fight experience prior to fighting for the title."
   ]
  },
  {
   "cell_type": "markdown",
   "metadata": {},
   "source": [
    "To discover if experience in terms of losses is important, I will plot the number of challengers who won without a loss prior vs the number of challengers who won with a loss prior to their title fight."
   ]
  },
  {
   "cell_type": "code",
   "execution_count": 36,
   "metadata": {},
   "outputs": [
    {
     "data": {
      "text/plain": [
       "30"
      ]
     },
     "execution_count": 36,
     "metadata": {},
     "output_type": "execute_result"
    }
   ],
   "source": [
    "UFCD4[(UFCD4['losses'] >= 1) & (UFCD4['winner'] == 'Blue')]['fighter'].count()"
   ]
  },
  {
   "cell_type": "code",
   "execution_count": 37,
   "metadata": {},
   "outputs": [
    {
     "data": {
      "text/plain": [
       "14"
      ]
     },
     "execution_count": 37,
     "metadata": {},
     "output_type": "execute_result"
    }
   ],
   "source": [
    "UFCD4[(UFCD4['losses'] < 1) & (UFCD4['winner'] == 'Blue')]['fighter'].count()"
   ]
  },
  {
   "cell_type": "code",
   "execution_count": 38,
   "metadata": {},
   "outputs": [
    {
     "data": {
      "image/png": "[encoded data removed]",
      "text/plain": [
       "<Figure size 432x432 with 1 Axes>"
      ]
     },
     "metadata": {},
     "output_type": "display_data"
    }
   ],
   "source": [
    "# Quick pie chart construction\n",
    "wins = [30, 14]\n",
    "UFClabels = ['Winners with losses','Winners without losses']\n",
    "colors = ['y', 'r']\n",
    "plt.figure(figsize = (6,6))\n",
    "plt.pie(wins, labels=UFClabels, colors=colors, startangle=90, autopct='%.1f%%')\n",
    "plt.title('Prior Losses in TItle Challengers',fontsize= 15,fontweight='bold')\n",
    "plt.show()"
   ]
  },
  {
   "cell_type": "markdown",
   "metadata": {},
   "source": [
    "Out of the title challengers who've won, fighters with 1 or more losses make out 68.2% of those winners. This could be due to the fact fighters who experience a loss learn their flaws and mistakes early on are able to correct and improve before they fight for the title."
   ]
  },
  {
   "cell_type": "code",
   "execution_count": 63,
   "metadata": {},
   "outputs": [
    {
     "data": {
      "text/html": [
       "<div>\n",
       "<style scoped>\n",
       "    .dataframe tbody tr th:only-of-type {\n",
       "        vertical-align: middle;\n",
       "    }\n",
       "\n",
       "    .dataframe tbody tr th {\n",
       "        vertical-align: top;\n",
       "    }\n",
       "\n",
       "    .dataframe thead th {\n",
       "        text-align: right;\n",
       "    }\n",
       "</style>\n",
       "<table border=\"1\" class=\"dataframe\">\n",
       "  <thead>\n",
       "    <tr style=\"text-align: right;\">\n",
       "      <th></th>\n",
       "      <th>fighter</th>\n",
       "      <th>date</th>\n",
       "      <th>location</th>\n",
       "      <th>winner</th>\n",
       "      <th>weight_class</th>\n",
       "      <th>current_lose_streak</th>\n",
       "      <th>current_win_streak</th>\n",
       "      <th>longest_win_streak</th>\n",
       "      <th>losses</th>\n",
       "      <th>total_rounds_fought</th>\n",
       "      <th>...</th>\n",
       "      <th>wins</th>\n",
       "      <th>stance</th>\n",
       "      <th>weight_lbs</th>\n",
       "      <th>age</th>\n",
       "      <th>height_inches</th>\n",
       "      <th>reach_inches</th>\n",
       "      <th>wins_KO/TKO</th>\n",
       "      <th>wins_DEC</th>\n",
       "      <th>wins_finish</th>\n",
       "      <th>win/loss_diff</th>\n",
       "    </tr>\n",
       "  </thead>\n",
       "  <tbody>\n",
       "    <tr>\n",
       "      <th>1932</th>\n",
       "      <td>Daniel Cormier</td>\n",
       "      <td>2015-05-23</td>\n",
       "      <td>Las Vegas, Nevada, USA</td>\n",
       "      <td>Blue</td>\n",
       "      <td>Light Heavyweight</td>\n",
       "      <td>1.0</td>\n",
       "      <td>0.0</td>\n",
       "      <td>4.0</td>\n",
       "      <td>1.0</td>\n",
       "      <td>15.0</td>\n",
       "      <td>...</td>\n",
       "      <td>4.0</td>\n",
       "      <td>Orthodox</td>\n",
       "      <td>235.0</td>\n",
       "      <td>36.0</td>\n",
       "      <td>71.0</td>\n",
       "      <td>72.0</td>\n",
       "      <td>1.0</td>\n",
       "      <td>2.0</td>\n",
       "      <td>2.0</td>\n",
       "      <td>3.0</td>\n",
       "    </tr>\n",
       "    <tr>\n",
       "      <th>3803</th>\n",
       "      <td>Mauricio Rua</td>\n",
       "      <td>2010-05-08</td>\n",
       "      <td>Montreal, Quebec, Canada</td>\n",
       "      <td>Blue</td>\n",
       "      <td>Light Heavyweight</td>\n",
       "      <td>1.0</td>\n",
       "      <td>0.0</td>\n",
       "      <td>2.0</td>\n",
       "      <td>2.0</td>\n",
       "      <td>12.0</td>\n",
       "      <td>...</td>\n",
       "      <td>2.0</td>\n",
       "      <td>Orthodox</td>\n",
       "      <td>205.0</td>\n",
       "      <td>28.0</td>\n",
       "      <td>73.0</td>\n",
       "      <td>76.0</td>\n",
       "      <td>2.0</td>\n",
       "      <td>0.0</td>\n",
       "      <td>2.0</td>\n",
       "      <td>0.0</td>\n",
       "    </tr>\n",
       "  </tbody>\n",
       "</table>\n",
       "<p>2 rows × 21 columns</p>\n",
       "</div>"
      ],
      "text/plain": [
       "             fighter        date                  location winner  \\\n",
       "1932  Daniel Cormier  2015-05-23    Las Vegas, Nevada, USA   Blue   \n",
       "3803    Mauricio Rua  2010-05-08  Montreal, Quebec, Canada   Blue   \n",
       "\n",
       "           weight_class  current_lose_streak  current_win_streak  \\\n",
       "1932  Light Heavyweight                  1.0                 0.0   \n",
       "3803  Light Heavyweight                  1.0                 0.0   \n",
       "\n",
       "      longest_win_streak  losses  total_rounds_fought      ...        wins  \\\n",
       "1932                 4.0     1.0                 15.0      ...         4.0   \n",
       "3803                 2.0     2.0                 12.0      ...         2.0   \n",
       "\n",
       "        stance weight_lbs   age  height_inches  reach_inches  wins_KO/TKO  \\\n",
       "1932  Orthodox      235.0  36.0           71.0          72.0          1.0   \n",
       "3803  Orthodox      205.0  28.0           73.0          76.0          2.0   \n",
       "\n",
       "      wins_DEC  wins_finish  win/loss_diff  \n",
       "1932       2.0          2.0            3.0  \n",
       "3803       0.0          2.0            0.0  \n",
       "\n",
       "[2 rows x 21 columns]"
      ]
     },
     "execution_count": 63,
     "metadata": {},
     "output_type": "execute_result"
    }
   ],
   "source": [
    "UFCD4[(UFCD4['current_lose_streak'] >=1) & (UFCD4['winner'] == 'Blue')]"
   ]
  },
  {
   "cell_type": "markdown",
   "metadata": {},
   "source": [
    "An interesting note, only two UFC fighters have won their first title fight coming off a loss."
   ]
  },
  {
   "cell_type": "markdown",
   "metadata": {},
   "source": [
    "#### Do Finishes Leap Frog Fighters Into Title Contention Sooner? \n",
    "\n",
    "Let's take a took at wins vs wins finished"
   ]
  },
  {
   "cell_type": "code",
   "execution_count": 39,
   "metadata": {},
   "outputs": [
    {
     "data": {
      "text/plain": [
       "<matplotlib.axes._subplots.AxesSubplot at 0x212e553f400>"
      ]
     },
     "execution_count": 39,
     "metadata": {},
     "output_type": "execute_result"
    },
    {
     "data": {
      "image/png": "[encoded data removed]",
      "text/plain": [
       "<Figure size 720x288 with 1 Axes>"
      ]
     },
     "metadata": {
      "needs_background": "light"
     },
     "output_type": "display_data"
    }
   ],
   "source": [
    "plt.figure(figsize=(10,4))\n",
    "sns.lineplot(data = UFCD4,x='wins_finish', y= 'wins')"
   ]
  },
  {
   "cell_type": "markdown",
   "metadata": {},
   "source": [
    "It appears as wins go up so do wins by finish, also that most of the wins from contenders in the UFC tend to be finishes, which makes sense, wins by finishes indicate dominance and skill, common quailities of a championship contender. \n",
    "\n",
    "Lets look at this same data by weight class"
   ]
  },
  {
   "cell_type": "code",
   "execution_count": 128,
   "metadata": {},
   "outputs": [
    {
     "data": {
      "text/plain": [
       "<seaborn.axisgrid.FacetGrid at 0x245eb6426d8>"
      ]
     },
     "execution_count": 128,
     "metadata": {},
     "output_type": "execute_result"
    },
    {
     "data": {
      "image/png": "[encoded data removed]",
      "text/plain": [
       "<Figure size 648x864 with 10 Axes>"
      ]
     },
     "metadata": {
      "needs_background": "light"
     },
     "output_type": "display_data"
    }
   ],
   "source": [
    "u = sns.FacetGrid(data=UFCD4, col = 'weight_class',col_wrap =3)\n",
    "u.map(plt.scatter,'wins_finish','wins',)"
   ]
  },
  {
   "cell_type": "code",
   "execution_count": 41,
   "metadata": {},
   "outputs": [
    {
     "data": {
      "text/html": [
       "<div>\n",
       "<style scoped>\n",
       "    .dataframe tbody tr th:only-of-type {\n",
       "        vertical-align: middle;\n",
       "    }\n",
       "\n",
       "    .dataframe tbody tr th {\n",
       "        vertical-align: top;\n",
       "    }\n",
       "\n",
       "    .dataframe thead th {\n",
       "        text-align: right;\n",
       "    }\n",
       "</style>\n",
       "<table border=\"1\" class=\"dataframe\">\n",
       "  <thead>\n",
       "    <tr style=\"text-align: right;\">\n",
       "      <th></th>\n",
       "      <th>wins</th>\n",
       "      <th>wins_finish</th>\n",
       "    </tr>\n",
       "    <tr>\n",
       "      <th>weight_class</th>\n",
       "      <th></th>\n",
       "      <th></th>\n",
       "    </tr>\n",
       "  </thead>\n",
       "  <tbody>\n",
       "    <tr>\n",
       "      <th>Women's Strawweight</th>\n",
       "      <td>4.444444</td>\n",
       "      <td>1.333333</td>\n",
       "    </tr>\n",
       "    <tr>\n",
       "      <th>Women's Bantamweight</th>\n",
       "      <td>3.500000</td>\n",
       "      <td>1.700000</td>\n",
       "    </tr>\n",
       "    <tr>\n",
       "      <th>Flyweight</th>\n",
       "      <td>4.928571</td>\n",
       "      <td>2.000000</td>\n",
       "    </tr>\n",
       "    <tr>\n",
       "      <th>Bantamweight</th>\n",
       "      <td>4.857143</td>\n",
       "      <td>2.857143</td>\n",
       "    </tr>\n",
       "    <tr>\n",
       "      <th>Lightweight</th>\n",
       "      <td>7.076923</td>\n",
       "      <td>4.038462</td>\n",
       "    </tr>\n",
       "    <tr>\n",
       "      <th>Welterweight</th>\n",
       "      <td>6.885714</td>\n",
       "      <td>4.257143</td>\n",
       "    </tr>\n",
       "    <tr>\n",
       "      <th>Featherweight</th>\n",
       "      <td>7.000000</td>\n",
       "      <td>4.357143</td>\n",
       "    </tr>\n",
       "    <tr>\n",
       "      <th>Middleweight</th>\n",
       "      <td>7.357143</td>\n",
       "      <td>4.571429</td>\n",
       "    </tr>\n",
       "    <tr>\n",
       "      <th>Light Heavyweight</th>\n",
       "      <td>7.054054</td>\n",
       "      <td>4.675676</td>\n",
       "    </tr>\n",
       "    <tr>\n",
       "      <th>Heavyweight</th>\n",
       "      <td>6.428571</td>\n",
       "      <td>5.028571</td>\n",
       "    </tr>\n",
       "  </tbody>\n",
       "</table>\n",
       "</div>"
      ],
      "text/plain": [
       "                          wins  wins_finish\n",
       "weight_class                               \n",
       "Women's Strawweight   4.444444     1.333333\n",
       "Women's Bantamweight  3.500000     1.700000\n",
       "Flyweight             4.928571     2.000000\n",
       "Bantamweight          4.857143     2.857143\n",
       "Lightweight           7.076923     4.038462\n",
       "Welterweight          6.885714     4.257143\n",
       "Featherweight         7.000000     4.357143\n",
       "Middleweight          7.357143     4.571429\n",
       "Light Heavyweight     7.054054     4.675676\n",
       "Heavyweight           6.428571     5.028571"
      ]
     },
     "execution_count": 41,
     "metadata": {},
     "output_type": "execute_result"
    }
   ],
   "source": [
    "UFCD4.groupby('weight_class')['wins','wins_finish'].mean().sort_values(by='wins_finish')"
   ]
  },
  {
   "cell_type": "markdown",
   "metadata": {},
   "source": [
    "It appears for smaller weight classes such as Woman's Strawweight, Woman's Bantamweight, Men's Flyweight and Men's Bantamweight the finishing rate in title contender victories is much lower. This could possibly be due to the fact that a smaller fighter doesn't have as much size and strength to finish their oppoents. For example, Heavyweights have the highest finishing rate out of their wins, as 265LB fighters their movments pack a lot more force."
   ]
  },
  {
   "cell_type": "markdown",
   "metadata": {},
   "source": [
    "#### An overall break down of the average UFC title challenger by weight class"
   ]
  },
  {
   "cell_type": "code",
   "execution_count": 53,
   "metadata": {},
   "outputs": [
    {
     "data": {
      "text/html": [
       "<div>\n",
       "<style scoped>\n",
       "    .dataframe tbody tr th:only-of-type {\n",
       "        vertical-align: middle;\n",
       "    }\n",
       "\n",
       "    .dataframe tbody tr th {\n",
       "        vertical-align: top;\n",
       "    }\n",
       "\n",
       "    .dataframe thead th {\n",
       "        text-align: right;\n",
       "    }\n",
       "</style>\n",
       "<table border=\"1\" class=\"dataframe\">\n",
       "  <thead>\n",
       "    <tr style=\"text-align: right;\">\n",
       "      <th></th>\n",
       "      <th>current_lose_streak</th>\n",
       "      <th>current_win_streak</th>\n",
       "      <th>longest_win_streak</th>\n",
       "      <th>losses</th>\n",
       "      <th>total_rounds_fought</th>\n",
       "      <th>wins_SUB</th>\n",
       "      <th>wins</th>\n",
       "      <th>weight_lbs</th>\n",
       "      <th>age</th>\n",
       "      <th>height_inches</th>\n",
       "      <th>reach_inches</th>\n",
       "      <th>wins_KO/TKO</th>\n",
       "      <th>wins_DEC</th>\n",
       "      <th>wins_finish</th>\n",
       "      <th>win/loss_diff</th>\n",
       "    </tr>\n",
       "    <tr>\n",
       "      <th>weight_class</th>\n",
       "      <th></th>\n",
       "      <th></th>\n",
       "      <th></th>\n",
       "      <th></th>\n",
       "      <th></th>\n",
       "      <th></th>\n",
       "      <th></th>\n",
       "      <th></th>\n",
       "      <th></th>\n",
       "      <th></th>\n",
       "      <th></th>\n",
       "      <th></th>\n",
       "      <th></th>\n",
       "      <th></th>\n",
       "      <th></th>\n",
       "    </tr>\n",
       "  </thead>\n",
       "  <tbody>\n",
       "    <tr>\n",
       "      <th>Bantamweight</th>\n",
       "      <td>0.071429</td>\n",
       "      <td>2.357143</td>\n",
       "      <td>3.785714</td>\n",
       "      <td>1.142857</td>\n",
       "      <td>16.000000</td>\n",
       "      <td>1.214286</td>\n",
       "      <td>4.857143</td>\n",
       "      <td>132.857143</td>\n",
       "      <td>28.857143</td>\n",
       "      <td>66.500000</td>\n",
       "      <td>67.500000</td>\n",
       "      <td>1.642857</td>\n",
       "      <td>2.000000</td>\n",
       "      <td>2.857143</td>\n",
       "      <td>3.714286</td>\n",
       "    </tr>\n",
       "    <tr>\n",
       "      <th>Featherweight</th>\n",
       "      <td>0.214286</td>\n",
       "      <td>3.642857</td>\n",
       "      <td>5.142857</td>\n",
       "      <td>1.714286</td>\n",
       "      <td>23.857143</td>\n",
       "      <td>1.571429</td>\n",
       "      <td>7.000000</td>\n",
       "      <td>148.928571</td>\n",
       "      <td>28.928571</td>\n",
       "      <td>67.928571</td>\n",
       "      <td>70.071429</td>\n",
       "      <td>2.785714</td>\n",
       "      <td>2.642857</td>\n",
       "      <td>4.357143</td>\n",
       "      <td>5.285714</td>\n",
       "    </tr>\n",
       "    <tr>\n",
       "      <th>Flyweight</th>\n",
       "      <td>0.214286</td>\n",
       "      <td>2.642857</td>\n",
       "      <td>3.071429</td>\n",
       "      <td>1.428571</td>\n",
       "      <td>17.142857</td>\n",
       "      <td>0.428571</td>\n",
       "      <td>4.928571</td>\n",
       "      <td>129.285714</td>\n",
       "      <td>28.928571</td>\n",
       "      <td>64.285714</td>\n",
       "      <td>65.142857</td>\n",
       "      <td>1.571429</td>\n",
       "      <td>2.928571</td>\n",
       "      <td>2.000000</td>\n",
       "      <td>3.500000</td>\n",
       "    </tr>\n",
       "    <tr>\n",
       "      <th>Heavyweight</th>\n",
       "      <td>0.142857</td>\n",
       "      <td>2.771429</td>\n",
       "      <td>4.657143</td>\n",
       "      <td>1.514286</td>\n",
       "      <td>16.400000</td>\n",
       "      <td>0.885714</td>\n",
       "      <td>6.428571</td>\n",
       "      <td>246.800000</td>\n",
       "      <td>31.771429</td>\n",
       "      <td>75.028571</td>\n",
       "      <td>77.633333</td>\n",
       "      <td>4.142857</td>\n",
       "      <td>1.342857</td>\n",
       "      <td>5.028571</td>\n",
       "      <td>4.914286</td>\n",
       "    </tr>\n",
       "    <tr>\n",
       "      <th>Light Heavyweight</th>\n",
       "      <td>0.135135</td>\n",
       "      <td>2.837838</td>\n",
       "      <td>4.405405</td>\n",
       "      <td>1.945946</td>\n",
       "      <td>20.270270</td>\n",
       "      <td>1.216216</td>\n",
       "      <td>7.054054</td>\n",
       "      <td>203.378378</td>\n",
       "      <td>31.945946</td>\n",
       "      <td>73.648649</td>\n",
       "      <td>75.675676</td>\n",
       "      <td>3.459459</td>\n",
       "      <td>2.378378</td>\n",
       "      <td>4.675676</td>\n",
       "      <td>5.108108</td>\n",
       "    </tr>\n",
       "    <tr>\n",
       "      <th>Lightweight</th>\n",
       "      <td>0.115385</td>\n",
       "      <td>3.038462</td>\n",
       "      <td>4.346154</td>\n",
       "      <td>2.000000</td>\n",
       "      <td>22.115385</td>\n",
       "      <td>1.538462</td>\n",
       "      <td>7.076923</td>\n",
       "      <td>156.153846</td>\n",
       "      <td>29.153846</td>\n",
       "      <td>68.807692</td>\n",
       "      <td>71.384615</td>\n",
       "      <td>2.500000</td>\n",
       "      <td>3.038462</td>\n",
       "      <td>4.038462</td>\n",
       "      <td>5.076923</td>\n",
       "    </tr>\n",
       "    <tr>\n",
       "      <th>Middleweight</th>\n",
       "      <td>0.071429</td>\n",
       "      <td>3.285714</td>\n",
       "      <td>4.892857</td>\n",
       "      <td>2.035714</td>\n",
       "      <td>21.464286</td>\n",
       "      <td>1.142857</td>\n",
       "      <td>7.357143</td>\n",
       "      <td>184.285714</td>\n",
       "      <td>32.321429</td>\n",
       "      <td>72.678571</td>\n",
       "      <td>74.884615</td>\n",
       "      <td>3.428571</td>\n",
       "      <td>2.750000</td>\n",
       "      <td>4.571429</td>\n",
       "      <td>5.321429</td>\n",
       "    </tr>\n",
       "    <tr>\n",
       "      <th>Welterweight</th>\n",
       "      <td>0.171429</td>\n",
       "      <td>3.428571</td>\n",
       "      <td>4.285714</td>\n",
       "      <td>1.914286</td>\n",
       "      <td>20.914286</td>\n",
       "      <td>1.314286</td>\n",
       "      <td>6.885714</td>\n",
       "      <td>170.428571</td>\n",
       "      <td>30.114286</td>\n",
       "      <td>70.571429</td>\n",
       "      <td>72.967742</td>\n",
       "      <td>2.942857</td>\n",
       "      <td>2.628571</td>\n",
       "      <td>4.257143</td>\n",
       "      <td>4.971429</td>\n",
       "    </tr>\n",
       "    <tr>\n",
       "      <th>Women's Bantamweight</th>\n",
       "      <td>0.100000</td>\n",
       "      <td>2.400000</td>\n",
       "      <td>3.000000</td>\n",
       "      <td>0.700000</td>\n",
       "      <td>10.200000</td>\n",
       "      <td>0.700000</td>\n",
       "      <td>3.500000</td>\n",
       "      <td>136.000000</td>\n",
       "      <td>30.400000</td>\n",
       "      <td>66.400000</td>\n",
       "      <td>67.000000</td>\n",
       "      <td>1.000000</td>\n",
       "      <td>1.800000</td>\n",
       "      <td>1.700000</td>\n",
       "      <td>2.800000</td>\n",
       "    </tr>\n",
       "    <tr>\n",
       "      <th>Women's Strawweight</th>\n",
       "      <td>0.111111</td>\n",
       "      <td>1.888889</td>\n",
       "      <td>3.000000</td>\n",
       "      <td>1.222222</td>\n",
       "      <td>15.444444</td>\n",
       "      <td>0.777778</td>\n",
       "      <td>4.444444</td>\n",
       "      <td>117.222222</td>\n",
       "      <td>28.444444</td>\n",
       "      <td>64.222222</td>\n",
       "      <td>64.555556</td>\n",
       "      <td>0.555556</td>\n",
       "      <td>3.111111</td>\n",
       "      <td>1.333333</td>\n",
       "      <td>3.222222</td>\n",
       "    </tr>\n",
       "  </tbody>\n",
       "</table>\n",
       "</div>"
      ],
      "text/plain": [
       "                      current_lose_streak  current_win_streak  \\\n",
       "weight_class                                                    \n",
       "Bantamweight                     0.071429            2.357143   \n",
       "Featherweight                    0.214286            3.642857   \n",
       "Flyweight                        0.214286            2.642857   \n",
       "Heavyweight                      0.142857            2.771429   \n",
       "Light Heavyweight                0.135135            2.837838   \n",
       "Lightweight                      0.115385            3.038462   \n",
       "Middleweight                     0.071429            3.285714   \n",
       "Welterweight                     0.171429            3.428571   \n",
       "Women's Bantamweight             0.100000            2.400000   \n",
       "Women's Strawweight              0.111111            1.888889   \n",
       "\n",
       "                      longest_win_streak    losses  total_rounds_fought  \\\n",
       "weight_class                                                              \n",
       "Bantamweight                    3.785714  1.142857            16.000000   \n",
       "Featherweight                   5.142857  1.714286            23.857143   \n",
       "Flyweight                       3.071429  1.428571            17.142857   \n",
       "Heavyweight                     4.657143  1.514286            16.400000   \n",
       "Light Heavyweight               4.405405  1.945946            20.270270   \n",
       "Lightweight                     4.346154  2.000000            22.115385   \n",
       "Middleweight                    4.892857  2.035714            21.464286   \n",
       "Welterweight                    4.285714  1.914286            20.914286   \n",
       "Women's Bantamweight            3.000000  0.700000            10.200000   \n",
       "Women's Strawweight             3.000000  1.222222            15.444444   \n",
       "\n",
       "                      wins_SUB      wins  weight_lbs        age  \\\n",
       "weight_class                                                      \n",
       "Bantamweight          1.214286  4.857143  132.857143  28.857143   \n",
       "Featherweight         1.571429  7.000000  148.928571  28.928571   \n",
       "Flyweight             0.428571  4.928571  129.285714  28.928571   \n",
       "Heavyweight           0.885714  6.428571  246.800000  31.771429   \n",
       "Light Heavyweight     1.216216  7.054054  203.378378  31.945946   \n",
       "Lightweight           1.538462  7.076923  156.153846  29.153846   \n",
       "Middleweight          1.142857  7.357143  184.285714  32.321429   \n",
       "Welterweight          1.314286  6.885714  170.428571  30.114286   \n",
       "Women's Bantamweight  0.700000  3.500000  136.000000  30.400000   \n",
       "Women's Strawweight   0.777778  4.444444  117.222222  28.444444   \n",
       "\n",
       "                      height_inches  reach_inches  wins_KO/TKO  wins_DEC  \\\n",
       "weight_class                                                               \n",
       "Bantamweight              66.500000     67.500000     1.642857  2.000000   \n",
       "Featherweight             67.928571     70.071429     2.785714  2.642857   \n",
       "Flyweight                 64.285714     65.142857     1.571429  2.928571   \n",
       "Heavyweight               75.028571     77.633333     4.142857  1.342857   \n",
       "Light Heavyweight         73.648649     75.675676     3.459459  2.378378   \n",
       "Lightweight               68.807692     71.384615     2.500000  3.038462   \n",
       "Middleweight              72.678571     74.884615     3.428571  2.750000   \n",
       "Welterweight              70.571429     72.967742     2.942857  2.628571   \n",
       "Women's Bantamweight      66.400000     67.000000     1.000000  1.800000   \n",
       "Women's Strawweight       64.222222     64.555556     0.555556  3.111111   \n",
       "\n",
       "                      wins_finish  win/loss_diff  \n",
       "weight_class                                      \n",
       "Bantamweight             2.857143       3.714286  \n",
       "Featherweight            4.357143       5.285714  \n",
       "Flyweight                2.000000       3.500000  \n",
       "Heavyweight              5.028571       4.914286  \n",
       "Light Heavyweight        4.675676       5.108108  \n",
       "Lightweight              4.038462       5.076923  \n",
       "Middleweight             4.571429       5.321429  \n",
       "Welterweight             4.257143       4.971429  \n",
       "Women's Bantamweight     1.700000       2.800000  \n",
       "Women's Strawweight      1.333333       3.222222  "
      ]
     },
     "execution_count": 53,
     "metadata": {},
     "output_type": "execute_result"
    }
   ],
   "source": [
    "UFCD4.groupby('weight_class').mean()"
   ]
  },
  {
   "cell_type": "markdown",
   "metadata": {},
   "source": [
    "This concludes of analysis title contenders in the UFC"
   ]
  }
 ],
 "metadata": {
  "kernelspec": {
   "display_name": "Python 3",
   "language": "python",
   "name": "python3"
  },
  "language_info": {
   "codemirror_mode": {
    "name": "ipython",
    "version": 3
   },
   "file_extension": ".py",
   "mimetype": "text/x-python",
   "name": "python",
   "nbconvert_exporter": "python",
   "pygments_lexer": "ipython3",
   "version": "3.7.1"
  }
 },
 "nbformat": 4,
 "nbformat_minor": 2
}
